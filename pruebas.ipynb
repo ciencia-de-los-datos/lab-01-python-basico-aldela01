{
 "cells": [
  {
   "cell_type": "code",
   "execution_count": 2,
   "metadata": {},
   "outputs": [
    {
     "name": "stdout",
     "output_type": "stream",
     "text": [
      "214\n"
     ]
    }
   ],
   "source": [
    "#Convert a CSV file to a list\n",
    "import csv\n",
    "\n",
    "csv_file = 'data.csv'\n",
    "\n",
    "with open(csv_file, 'r') as f:\n",
    "    reader = csv.reader(f,delimiter='\\t')\n",
    "    data = list(reader)\n",
    "\n",
    "second_column = [row[1] for row in data]\n",
    "\n",
    "second_column = [int(i) for i in second_column]\n",
    "s=sum(second_column)    \n",
    "\n",
    "print(s)"
   ]
  },
  {
   "cell_type": "code",
   "execution_count": 4,
   "metadata": {},
   "outputs": [
    {
     "name": "stdout",
     "output_type": "stream",
     "text": [
      "[('A', 8), ('B', 7), ('C', 5), ('D', 6), ('E', 14)]\n"
     ]
    }
   ],
   "source": [
    "#Convert a CSV file to a list\n",
    "import csv\n",
    "\n",
    "csv_file = 'data.csv'\n",
    "\n",
    "with open(csv_file, 'r') as f:\n",
    "    reader = csv.reader(f,delimiter='\\t')\n",
    "    data = list(reader)\n",
    "\n",
    "first_column = [row[0] for row in data]\n",
    "first_column = sorted(first_column)\n",
    "\n",
    "#Convert first_column to a dictionary with a 1 as the value for each key\n",
    "\n",
    "first_column_tuples = [(i,1) for i in first_column]\n",
    "\n",
    "first_column_tuples_dict = {}\n",
    "\n",
    "for key, value in first_column_tuples:\n",
    "    if key not in first_column_tuples_dict:\n",
    "        first_column_tuples_dict[key] = 0\n",
    "    first_column_tuples_dict[key]+=value\n",
    "\n",
    "#Convert first_column_tuples_dict to a list of tuples\n",
    "    \n",
    "first_column_tuples = list(first_column_tuples_dict.items())\n",
    "\n",
    "print(first_column_tuples)"
   ]
  },
  {
   "cell_type": "code",
   "execution_count": 24,
   "metadata": {},
   "outputs": [
    {
     "name": "stdout",
     "output_type": "stream",
     "text": [
      "[('A', 53), ('B', 36), ('C', 27), ('D', 31), ('E', 67)]\n"
     ]
    }
   ],
   "source": []
  },
  {
   "cell_type": "code",
   "execution_count": 5,
   "metadata": {},
   "outputs": [
    {
     "name": "stdout",
     "output_type": "stream",
     "text": [
      "[('01', 3), ('02', 4), ('03', 2), ('04', 4), ('05', 3), ('06', 3), ('07', 5), ('08', 6), ('09', 3), ('10', 2), ('11', 2), ('12', 3)]\n"
     ]
    }
   ],
   "source": [
    "#Convert a CSV file to a list\n",
    "import csv\n",
    "\n",
    "csv_file = 'data.csv'\n",
    "\n",
    "with open(csv_file, 'r') as f:\n",
    "    reader = csv.reader(f,delimiter='\\t')\n",
    "    data = list(reader)\n",
    "\n",
    "third_column = sorted([(row[2].split('-')[1],1) for row in data])\n",
    "third_column_dict = {}\n",
    "\n",
    "for key, value in third_column:\n",
    "    if key not in third_column_dict:\n",
    "        third_column_dict[key] = 0\n",
    "    third_column_dict[key]+=value\n",
    "\n",
    "third_column = list(third_column_dict.items())\n",
    "\n",
    "print(third_column)"
   ]
  },
  {
   "cell_type": "code",
   "execution_count": 6,
   "metadata": {},
   "outputs": [
    {
     "name": "stdout",
     "output_type": "stream",
     "text": [
      "[('A', 9, 2), ('B', 9, 1), ('C', 9, 0), ('D', 8, 3), ('E', 9, 1)]\n"
     ]
    }
   ],
   "source": [
    "#Convert a CSV file to a list\n",
    "import csv\n",
    "\n",
    "csv_file = 'data.csv'\n",
    "\n",
    "with open(csv_file, 'r') as f:\n",
    "    reader = csv.reader(f,delimiter='\\t')\n",
    "    data = list(reader)\n",
    "\n",
    "first_second_column = [(row[0],int(row[1])) for row in data]\n",
    "\n",
    "first_second_column = sorted(first_second_column)\n",
    "\n",
    "first_second_column_dict = {}\n",
    "\n",
    "for key, value in first_second_column:\n",
    "    if key not in first_second_column_dict:\n",
    "        first_second_column_dict[key] = []\n",
    "    first_second_column_dict[key].append(value)\n",
    "first_second_column_dict={key:(max(value),min(value)) for key, value in first_second_column_dict.items()}\n",
    "\n",
    "first_second_column = list(first_second_column_dict.items())\n",
    "first_second_column = [(i[0],i[1][0],i[1][1]) for i in first_second_column]\n",
    "\n",
    "print(first_second_column)"
   ]
  },
  {
   "cell_type": "code",
   "execution_count": 7,
   "metadata": {},
   "outputs": [
    {
     "name": "stdout",
     "output_type": "stream",
     "text": [
      "[('aaa', 1, 9), ('bbb', 1, 9), ('ccc', 1, 10), ('ddd', 0, 9), ('eee', 1, 7), ('fff', 0, 9), ('ggg', 3, 10), ('hhh', 0, 9), ('iii', 0, 9), ('jjj', 5, 17)]\n"
     ]
    }
   ],
   "source": [
    "#Convert a CSV file to a list\n",
    "import csv\n",
    "\n",
    "csv_file = 'data.csv'\n",
    "\n",
    "with open(csv_file, 'r') as f:\n",
    "    reader = csv.reader(f,delimiter='\\t')\n",
    "    data = list(reader)\n",
    "\n",
    "fifth_column = [row[4].split(',') for row in data]\n",
    "fifth_column = sorted([i for sublist in fifth_column for i in sublist])\n",
    "fifth_column = [i.split(':') for i in fifth_column]\n",
    "\n",
    "fifth_column_dict = {}\n",
    "\n",
    "for key, value in fifth_column:\n",
    "    if key not in fifth_column_dict:\n",
    "        fifth_column_dict[key] = []\n",
    "    fifth_column_dict[key].append(int(value))\n",
    "fifth_column_dict={key:(min(value),max(value)) for key, value in fifth_column_dict.items()}\n",
    "\n",
    "fifth_column = list(fifth_column_dict.items())\n",
    "fifth_column = [(i[0],i[1][0],i[1][1]) for i in fifth_column]\n",
    "\n",
    "print(fifth_column)"
   ]
  },
  {
   "cell_type": "code",
   "execution_count": 8,
   "metadata": {},
   "outputs": [
    {
     "name": "stdout",
     "output_type": "stream",
     "text": [
      "[(0, ['C']), (1, ['E', 'B', 'E']), (2, ['A', 'E']), (3, ['A', 'B', 'D', 'E', 'E', 'D']), (4, ['E', 'B']), (5, ['B', 'C', 'D', 'D', 'E', 'E', 'E']), (6, ['C', 'E', 'A', 'B']), (7, ['A', 'C', 'E', 'D']), (8, ['E', 'D', 'E', 'A', 'B']), (9, ['A', 'B', 'E', 'A', 'A', 'C'])]\n"
     ]
    }
   ],
   "source": [
    "#Convert a CSV file to a list\n",
    "import csv\n",
    "\n",
    "csv_file = 'data.csv'\n",
    "\n",
    "with open(csv_file, 'r') as f:\n",
    "    reader = csv.reader(f,delimiter='\\t')\n",
    "    data = list(reader)\n",
    "\n",
    "second_first_column = [(int(row[1]),row[0]) for row in data]\n",
    "\n",
    "second_first_column_dict = {}\n",
    "\n",
    "for key, value in second_first_column:\n",
    "    if key not in second_first_column_dict:\n",
    "        second_first_column_dict[key] = []\n",
    "    second_first_column_dict[key].append(value)\n",
    "\n",
    "second_first_column = sorted(list(second_first_column_dict.items()))\n",
    "\n",
    "\n",
    "print(second_first_column)\n"
   ]
  },
  {
   "cell_type": "code",
   "execution_count": 9,
   "metadata": {},
   "outputs": [
    {
     "data": {
      "text/plain": [
       "[(0, ['C']),\n",
       " (1, ['B', 'E']),\n",
       " (2, ['E', 'A']),\n",
       " (3, ['E', 'B', 'D', 'A']),\n",
       " (4, ['B', 'E']),\n",
       " (5, ['B', 'D', 'E', 'C']),\n",
       " (6, ['A', 'B', 'E', 'C']),\n",
       " (7, ['E', 'D', 'A', 'C']),\n",
       " (8, ['B', 'D', 'E', 'A']),\n",
       " (9, ['E', 'B', 'A', 'C'])]"
      ]
     },
     "execution_count": 9,
     "metadata": {},
     "output_type": "execute_result"
    }
   ],
   "source": [
    "second_first_column_set=[(row[0],list(set(row[1]))) for row in second_first_column]\n",
    "second_first_column_set"
   ]
  },
  {
   "cell_type": "code",
   "execution_count": 10,
   "metadata": {},
   "outputs": [],
   "source": [
    "def pregunta_07():\n",
    "    \"\"\"\n",
    "    Retorne una lista de tuplas que asocien las columnas 0 y 1. Cada tupla contiene un\n",
    "    valor posible de la columna 2 y una lista con todas las letras asociadas (columna 1)\n",
    "    a dicho valor de la columna 2.\n",
    "\n",
    "    Rta/\n",
    "    [\n",
    "        (0, [\"C\"]),\n",
    "        (1, [\"E\", \"B\", \"E\"]),\n",
    "        (2, [\"A\", \"E\"]),\n",
    "        (3, [\"A\", \"B\", \"D\", \"E\", \"E\", \"D\"]),\n",
    "        (4, [\"E\", \"B\"]),\n",
    "        (5, [\"B\", \"C\", \"D\", \"D\", \"E\", \"E\", \"E\"]),\n",
    "        (6, [\"C\", \"E\", \"A\", \"B\"]),\n",
    "        (7, [\"A\", \"C\", \"E\", \"D\"]),\n",
    "        (8, [\"E\", \"D\", \"E\", \"A\", \"B\"]),\n",
    "        (9, [\"A\", \"B\", \"E\", \"A\", \"A\", \"C\"]),\n",
    "    ]\n",
    "\n",
    "    \"\"\"\n",
    "\n",
    "    csv_file = 'data.csv'\n",
    "\n",
    "    with open(csv_file, 'r') as f:\n",
    "        reader = csv.reader(f,delimiter='\\t')\n",
    "        data = list(reader)\n",
    "\n",
    "    second_first_column = [(int(row[1]),row[0]) for row in data]\n",
    "\n",
    "    second_first_column_dict = {}\n",
    "\n",
    "    for key, value in second_first_column:\n",
    "        if key not in second_first_column_dict:\n",
    "            second_first_column_dict[key] = []\n",
    "        second_first_column_dict[key].append(value)\n",
    "\n",
    "    second_first_column = sorted(list(second_first_column_dict.items()))\n",
    "    return second_first_column"
   ]
  },
  {
   "cell_type": "code",
   "execution_count": 14,
   "metadata": {},
   "outputs": [
    {
     "data": {
      "text/plain": [
       "[(0, ['C']),\n",
       " (1, ['B', 'E']),\n",
       " (2, ['A', 'E']),\n",
       " (3, ['A', 'B', 'D', 'E']),\n",
       " (4, ['B', 'E']),\n",
       " (5, ['B', 'C', 'D', 'E']),\n",
       " (6, ['A', 'B', 'C', 'E']),\n",
       " (7, ['A', 'C', 'D', 'E']),\n",
       " (8, ['A', 'B', 'D', 'E']),\n",
       " (9, ['A', 'B', 'C', 'E'])]"
      ]
     },
     "execution_count": 14,
     "metadata": {},
     "output_type": "execute_result"
    }
   ],
   "source": [
    "sfc=pregunta_07()\n",
    "second_first_column_set2=[(row[0],sorted(list(set(row[1])))) for row in sfc]\n",
    "second_first_column_set2"
   ]
  },
  {
   "cell_type": "code",
   "execution_count": 69,
   "metadata": {},
   "outputs": [
    {
     "name": "stdout",
     "output_type": "stream",
     "text": [
      "[('aaa', 13), ('bbb', 16), ('ccc', 23), ('ddd', 23), ('eee', 15), ('fff', 20), ('ggg', 13), ('hhh', 16), ('iii', 18), ('jjj', 18)]\n"
     ]
    }
   ],
   "source": [
    "#Convert a CSV file to a list\n",
    "import csv\n",
    "\n",
    "csv_file = 'data.csv'\n",
    "\n",
    "with open(csv_file, 'r') as f:\n",
    "    reader = csv.reader(f,delimiter='\\t')\n",
    "    data = list(reader)\n",
    "\n",
    "fifth_column = [row[4].split(',') for row in data]\n",
    "fifth_column = sorted([i for sublist in fifth_column for i in sublist])\n",
    "fifth_column = [i.split(':') for i in fifth_column]\n",
    "\n",
    "fifth_column_tuples = [(i[0],1) for i in fifth_column]\n",
    "\n",
    "fifth_column_tuples_dict = {}\n",
    "\n",
    "for key, value in fifth_column_tuples:\n",
    "    if key not in fifth_column_tuples_dict:\n",
    "        fifth_column_tuples_dict[key] = 0\n",
    "    fifth_column_tuples_dict[key]+=value\n",
    "\n",
    "fifth_column_tuples = list(fifth_column_tuples_dict.items())\n",
    "\n",
    "\n",
    "print(fifth_column_tuples)"
   ]
  },
  {
   "cell_type": "code",
   "execution_count": 76,
   "metadata": {},
   "outputs": [],
   "source": [
    "#Convert a CSV file to a list\n",
    "import csv\n",
    "\n",
    "csv_file = 'data.csv'\n",
    "\n",
    "with open(csv_file, 'r') as f:\n",
    "    reader = csv.reader(f,delimiter='\\t')\n",
    "    data = list(reader)\n",
    "\n",
    "first_fourth_fifth_column = [(row[0],len(row[3].split(',')),len(row[4].split(','))) for row in data]"
   ]
  },
  {
   "cell_type": "code",
   "execution_count": 88,
   "metadata": {},
   "outputs": [
    {
     "data": {
      "text/plain": [
       "{'a': 122, 'b': 49, 'c': 91, 'd': 73, 'e': 86, 'f': 134, 'g': 35}"
      ]
     },
     "execution_count": 88,
     "metadata": {},
     "output_type": "execute_result"
    }
   ],
   "source": [
    "fourth_second_column=[(row[3].split(','),int(row[1])) for row in data]\n",
    "\n",
    "fourth_second_column_tuples=sorted([(row[0][i],row[1]) for row in fourth_second_column for i in range(len(row[0]))])\n",
    "fourth_second_column_tuples_dict = {}\n",
    "\n",
    "for key, value in fourth_second_column_tuples:\n",
    "    if key not in fourth_second_column_tuples_dict:\n",
    "        fourth_second_column_tuples_dict[key] = 0\n",
    "    fourth_second_column_tuples_dict[key]+=value\n",
    "\n",
    "\n",
    "\n",
    "fourth_second_column_tuples_dict\n",
    "\n"
   ]
  },
  {
   "cell_type": "code",
   "execution_count": 132,
   "metadata": {},
   "outputs": [
    {
     "data": {
      "text/plain": [
       "{'A': 177, 'B': 187, 'C': 114, 'D': 136, 'E': 324}"
      ]
     },
     "execution_count": 132,
     "metadata": {},
     "output_type": "execute_result"
    }
   ],
   "source": [
    "first_column = [row[0] for row in data]\n",
    "fifth_column = [row[4].split(',') for row in data]\n",
    "fifth_column = [[i.split(':') for i in row] for row in fifth_column]\n",
    "fifth_column = [sum([int(i[1]) for i in row]) for row in fifth_column]\n",
    "\n",
    "first_fifth_column = sorted(list(zip(first_column,fifth_column)))\n",
    "first_fifth_column_dict={}\n",
    "for key, value in first_fifth_column:\n",
    "    if key not in first_fifth_column_dict:\n",
    "        first_fifth_column_dict[key] = 0\n",
    "    first_fifth_column_dict[key]+=value\n",
    "\n",
    "first_fifth_column_dict\n",
    "\n"
   ]
  }
 ],
 "metadata": {
  "kernelspec": {
   "display_name": ".venv",
   "language": "python",
   "name": "python3"
  },
  "language_info": {
   "codemirror_mode": {
    "name": "ipython",
    "version": 3
   },
   "file_extension": ".py",
   "mimetype": "text/x-python",
   "name": "python",
   "nbconvert_exporter": "python",
   "pygments_lexer": "ipython3",
   "version": "3.12.2"
  }
 },
 "nbformat": 4,
 "nbformat_minor": 2
}
